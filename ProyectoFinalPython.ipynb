{
 "cells": [
  {
   "cell_type": "markdown",
   "metadata": {
    "application/vnd.databricks.v1+cell": {
     "cellMetadata": {
      "byteLimit": 2048000,
      "rowLimit": 10000
     },
     "inputWidgets": {},
     "nuid": "e8537980-ce22-4bc2-96e2-780eadcd7dc4",
     "showTitle": false,
     "title": ""
    }
   },
   "source": [
    "# Lectura de datos\n",
    "Cargamos los datos infiriendo su schema."
   ]
  },
  {
   "cell_type": "code",
   "execution_count": 0,
   "metadata": {
    "application/vnd.databricks.v1+cell": {
     "cellMetadata": {
      "byteLimit": 2048000,
      "rowLimit": 10000
     },
     "inputWidgets": {},
     "nuid": "57deefa4-939d-4c41-acf2-b7c3b0b245a8",
     "showTitle": false,
     "title": ""
    }
   },
   "outputs": [],
   "source": [
    "from pyspark.sql.functions import *\n",
    "from pyspark.sql.types import *\n",
    "from pyspark.sql import SparkSession\n",
    "spark = SparkSession.builder.appName(\"pysparkdf\").getOrCreate()\n",
    "from pyspark.sql.window import Window"
   ]
  },
  {
   "cell_type": "code",
   "execution_count": 0,
   "metadata": {
    "application/vnd.databricks.v1+cell": {
     "cellMetadata": {
      "byteLimit": 2048000,
      "rowLimit": 10000
     },
     "inputWidgets": {},
     "nuid": "bea12141-b31e-45a7-adff-c1ff479ae872",
     "showTitle": false,
     "title": ""
    }
   },
   "outputs": [],
   "source": [
    "dfHappiness2021 = spark.read.format(\"csv\")\\\n",
    ".option(\"header\", \"true\")\\\n",
    ".option(\"inferSchema\", \"true\")\\\n",
    ".load(\"dbfs:/FileStore/proyectofinal/data/world_happiness_report_2021.csv\")\n",
    "dfHappiness = spark.read.format(\"csv\")\\\n",
    ".option(\"header\", \"true\")\\\n",
    ".option(\"inferSchema\", \"true\")\\\n",
    ".load(\"dbfs:/FileStore/proyectofinal/data/world_happiness_report.csv\")"
   ]
  },
  {
   "cell_type": "markdown",
   "metadata": {
    "application/vnd.databricks.v1+cell": {
     "cellMetadata": {
      "byteLimit": 2048000,
      "rowLimit": 10000
     },
     "inputWidgets": {},
     "nuid": "4a24684a-60a2-4e2d-8b98-e455112d9cc4",
     "showTitle": false,
     "title": ""
    }
   },
   "source": [
    "Comprobamos que los tipos de las columnas se han inferido correctamente."
   ]
  },
  {
   "cell_type": "code",
   "execution_count": 0,
   "metadata": {
    "application/vnd.databricks.v1+cell": {
     "cellMetadata": {
      "byteLimit": 2048000,
      "rowLimit": 10000
     },
     "inputWidgets": {},
     "nuid": "fca312e4-393a-498b-a53d-05db469808d0",
     "showTitle": false,
     "title": ""
    }
   },
   "outputs": [
    {
     "output_type": "stream",
     "name": "stdout",
     "output_type": "stream",
     "text": [
      "+------------+------------------+------------+------------------------------+------------+------------+---------------------+--------------+-----------------------+----------------------------+----------+-------------------------+------------------------+--------------------------------+----------------------------+-------------------------------------+------------------------------------------+------------------------+---------------------------------------+-------------------+\n|Country name|Regional indicator|Ladder score|Standard error of ladder score|upperwhisker|lowerwhisker|Logged GDP per capita|Social support|Healthy life expectancy|Freedom to make life choices|Generosity|Perceptions of corruption|Ladder score in Dystopia|Explained by: Log GDP per capita|Explained by: Social support|Explained by: Healthy life expectancy|Explained by: Freedom to make life choices|Explained by: Generosity|Explained by: Perceptions of corruption|Dystopia + residual|\n+------------+------------------+------------+------------------------------+------------+------------+---------------------+--------------+-----------------------+----------------------------+----------+-------------------------+------------------------+--------------------------------+----------------------------+-------------------------------------+------------------------------------------+------------------------+---------------------------------------+-------------------+\n|     Finland|    Western Europe|       7.842|                         0.032|       7.904|        7.78|               10.775|         0.954|                   72.0|                       0.949|    -0.098|                    0.186|                    2.43|                           1.446|                       1.106|                                0.741|                                     0.691|                   0.124|                                  0.481|              3.253|\n|     Denmark|    Western Europe|        7.62|                         0.035|       7.687|       7.552|               10.933|         0.954|                   72.7|                       0.946|      0.03|                    0.179|                    2.43|                           1.502|                       1.108|                                0.763|                                     0.686|                   0.208|                                  0.485|              2.868|\n| Switzerland|    Western Europe|       7.571|                         0.036|       7.643|         7.5|               11.117|         0.942|                   74.4|                       0.919|     0.025|                    0.292|                    2.43|                           1.566|                       1.079|                                0.816|                                     0.653|                   0.204|                                  0.413|              2.839|\n|     Iceland|    Western Europe|       7.554|                         0.059|        7.67|       7.438|               10.878|         0.983|                   73.0|                       0.955|      0.16|                    0.673|                    2.43|                           1.482|                       1.172|                                0.772|                                     0.698|                   0.293|                                   0.17|              2.967|\n| Netherlands|    Western Europe|       7.464|                         0.027|       7.518|        7.41|               10.932|         0.942|                   72.4|                       0.913|     0.175|                    0.338|                    2.43|                           1.501|                       1.079|                                0.753|                                     0.647|                   0.302|                                  0.384|              2.798|\n+------------+------------------+------------+------------------------------+------------+------------+---------------------+--------------+-----------------------+----------------------------+----------+-------------------------+------------------------+--------------------------------+----------------------------+-------------------------------------+------------------------------------------+------------------------+---------------------------------------+-------------------+\n\n"
     ]
    }
   ],
   "source": [
    "dfHappiness2021.limit(5).show()"
   ]
  },
  {
   "cell_type": "code",
   "execution_count": 0,
   "metadata": {
    "application/vnd.databricks.v1+cell": {
     "cellMetadata": {
      "byteLimit": 2048000,
      "rowLimit": 10000
     },
     "inputWidgets": {},
     "nuid": "74815f9d-fa1d-4e71-b316-bc87a3f24323",
     "showTitle": false,
     "title": ""
    }
   },
   "outputs": [
    {
     "output_type": "stream",
     "name": "stdout",
     "output_type": "stream",
     "text": [
      "root\n |-- Country name: string (nullable = true)\n |-- Regional indicator: string (nullable = true)\n |-- Ladder score: double (nullable = true)\n |-- Standard error of ladder score: double (nullable = true)\n |-- upperwhisker: double (nullable = true)\n |-- lowerwhisker: double (nullable = true)\n |-- Logged GDP per capita: double (nullable = true)\n |-- Social support: double (nullable = true)\n |-- Healthy life expectancy: double (nullable = true)\n |-- Freedom to make life choices: double (nullable = true)\n |-- Generosity: double (nullable = true)\n |-- Perceptions of corruption: double (nullable = true)\n |-- Ladder score in Dystopia: double (nullable = true)\n |-- Explained by: Log GDP per capita: double (nullable = true)\n |-- Explained by: Social support: double (nullable = true)\n |-- Explained by: Healthy life expectancy: double (nullable = true)\n |-- Explained by: Freedom to make life choices: double (nullable = true)\n |-- Explained by: Generosity: double (nullable = true)\n |-- Explained by: Perceptions of corruption: double (nullable = true)\n |-- Dystopia + residual: double (nullable = true)\n\n"
     ]
    }
   ],
   "source": [
    "dfHappiness2021.printSchema()"
   ]
  },
  {
   "cell_type": "code",
   "execution_count": 0,
   "metadata": {
    "application/vnd.databricks.v1+cell": {
     "cellMetadata": {
      "byteLimit": 2048000,
      "rowLimit": 10000
     },
     "inputWidgets": {},
     "nuid": "8469771e-6030-49b1-a1a7-e2f9e2c16dd4",
     "showTitle": false,
     "title": ""
    }
   },
   "outputs": [
    {
     "output_type": "stream",
     "name": "stdout",
     "output_type": "stream",
     "text": [
      "+------------+----+-----------+------------------+--------------+--------------------------------+----------------------------+----------+-------------------------+---------------+---------------+\n|Country name|year|Life Ladder|Log GDP per capita|Social support|Healthy life expectancy at birth|Freedom to make life choices|Generosity|Perceptions of corruption|Positive affect|Negative affect|\n+------------+----+-----------+------------------+--------------+--------------------------------+----------------------------+----------+-------------------------+---------------+---------------+\n| Afghanistan|2008|      3.724|              7.37|         0.451|                            50.8|                       0.718|     0.168|                    0.882|          0.518|          0.258|\n| Afghanistan|2009|      4.402|              7.54|         0.552|                            51.2|                       0.679|      0.19|                     0.85|          0.584|          0.237|\n| Afghanistan|2010|      4.758|             7.647|         0.539|                            51.6|                         0.6|     0.121|                    0.707|          0.618|          0.275|\n| Afghanistan|2011|      3.832|              7.62|         0.521|                           51.92|                       0.496|     0.162|                    0.731|          0.611|          0.267|\n| Afghanistan|2012|      3.783|             7.705|         0.521|                           52.24|                       0.531|     0.236|                    0.776|           0.71|          0.268|\n+------------+----+-----------+------------------+--------------+--------------------------------+----------------------------+----------+-------------------------+---------------+---------------+\n\n"
     ]
    }
   ],
   "source": [
    "dfHappiness.limit(5).show()"
   ]
  },
  {
   "cell_type": "code",
   "execution_count": 0,
   "metadata": {
    "application/vnd.databricks.v1+cell": {
     "cellMetadata": {
      "byteLimit": 2048000,
      "rowLimit": 10000
     },
     "inputWidgets": {},
     "nuid": "2cf77506-a832-467a-8a10-030306b9ee21",
     "showTitle": false,
     "title": ""
    }
   },
   "outputs": [
    {
     "output_type": "stream",
     "name": "stdout",
     "output_type": "stream",
     "text": [
      "root\n |-- Country name: string (nullable = true)\n |-- year: integer (nullable = true)\n |-- Life Ladder: double (nullable = true)\n |-- Log GDP per capita: double (nullable = true)\n |-- Social support: double (nullable = true)\n |-- Healthy life expectancy at birth: double (nullable = true)\n |-- Freedom to make life choices: double (nullable = true)\n |-- Generosity: double (nullable = true)\n |-- Perceptions of corruption: double (nullable = true)\n |-- Positive affect: double (nullable = true)\n |-- Negative affect: double (nullable = true)\n\n"
     ]
    }
   ],
   "source": [
    "dfHappiness.printSchema()"
   ]
  },
  {
   "cell_type": "markdown",
   "metadata": {
    "application/vnd.databricks.v1+cell": {
     "cellMetadata": {
      "byteLimit": 2048000,
      "rowLimit": 10000
     },
     "inputWidgets": {},
     "nuid": "2104f205-33a0-494e-9baf-acb651358fa9",
     "showTitle": false,
     "title": ""
    }
   },
   "source": [
    "# Ejercicio 1\n",
    "**¿Cuál es el país más \"feliz\" del 2021 según la data? (considerar la columna \"Ladder score\")**"
   ]
  },
  {
   "cell_type": "code",
   "execution_count": 0,
   "metadata": {
    "application/vnd.databricks.v1+cell": {
     "cellMetadata": {
      "byteLimit": 2048000,
      "rowLimit": 10000
     },
     "inputWidgets": {},
     "nuid": "33e87320-4792-43db-88fd-9bbd9c294885",
     "showTitle": false,
     "title": ""
    }
   },
   "outputs": [
    {
     "output_type": "stream",
     "name": "stdout",
     "output_type": "stream",
     "text": [
      "+------------+------------+\n|Country name|Ladder score|\n+------------+------------+\n|     Finland|       7.842|\n+------------+------------+\n\n"
     ]
    }
   ],
   "source": [
    "result1 = dfHappiness2021.select(\n",
    "  \"Country name\",\n",
    "  \"Ladder score\"\n",
    ").orderBy(desc(\"Ladder score\"))\\\n",
    "  .limit(1)\n",
    "\n",
    "result1.cache\n",
    "result1.show()"
   ]
  },
  {
   "cell_type": "markdown",
   "metadata": {
    "application/vnd.databricks.v1+cell": {
     "cellMetadata": {
      "byteLimit": 2048000,
      "rowLimit": 10000
     },
     "inputWidgets": {},
     "nuid": "4b376e71-b98c-47f1-b602-0ccd3617f6b1",
     "showTitle": false,
     "title": ""
    }
   },
   "source": [
    "El país más feliz del 2021 fue Finlandia."
   ]
  },
  {
   "cell_type": "markdown",
   "metadata": {
    "application/vnd.databricks.v1+cell": {
     "cellMetadata": {
      "byteLimit": 2048000,
      "rowLimit": 10000
     },
     "inputWidgets": {},
     "nuid": "7eded850-e42f-4a30-8f66-84581e3efdf5",
     "showTitle": false,
     "title": ""
    }
   },
   "source": [
    "# Ejercicio 2\n",
    "**¿Cuál es el país más \"feliz\" del 2021 por continente según la data?**"
   ]
  },
  {
   "cell_type": "markdown",
   "metadata": {
    "application/vnd.databricks.v1+cell": {
     "cellMetadata": {
      "byteLimit": 2048000,
      "rowLimit": 10000
     },
     "inputWidgets": {},
     "nuid": "1c9ef407-e715-40b8-9307-a6d200c27b7f",
     "showTitle": false,
     "title": ""
    }
   },
   "source": [
    "Creamos un DF asignando cada región a su continente."
   ]
  },
  {
   "cell_type": "code",
   "execution_count": 0,
   "metadata": {
    "application/vnd.databricks.v1+cell": {
     "cellMetadata": {
      "byteLimit": 2048000,
      "rowLimit": 10000
     },
     "inputWidgets": {},
     "nuid": "b38fb662-57ea-4114-ab9b-af3f75d0752a",
     "showTitle": false,
     "title": ""
    }
   },
   "outputs": [
    {
     "output_type": "stream",
     "name": "stdout",
     "output_type": "stream",
     "text": [
      "+----------------------------------+---------+\n|Regional Indicator                |Continent|\n+----------------------------------+---------+\n|Western Europe                    |Europe   |\n|North America and ANZ             |America  |\n|Middle East and North Africa      |Africa   |\n|Latin America and Caribbean       |America  |\n|Central and Eastern Europe        |Europe   |\n|East Asia                         |Asia     |\n|Southeast Asia                    |Asia     |\n|Commonwealth of Independent States|Asia     |\n|Sub-Saharan Africa                |Africa   |\n|South Asia                        |Asia     |\n+----------------------------------+---------+\n\n"
     ]
    }
   ],
   "source": [
    "dfContinents = spark.createDataFrame([(\"Western Europe\", \"Europe\"), (\"North America and ANZ\", \"America\"),\n",
    "  (\"Middle East and North Africa\", \"Africa\"), (\"Latin America and Caribbean\", \"America\"),\n",
    "  (\"Central and Eastern Europe\", \"Europe\"), (\"East Asia\", \"Asia\"),\n",
    "  (\"Southeast Asia\", \"Asia\"), (\"Commonwealth of Independent States\", \"Asia\"),\n",
    "  (\"Sub-Saharan Africa\", \"Africa\"), (\"South Asia\",\"Asia\")],[\"Regional Indicator\",\"Continent\"])\n",
    "\n",
    "dfContinents.show(truncate=False)"
   ]
  },
  {
   "cell_type": "markdown",
   "metadata": {
    "application/vnd.databricks.v1+cell": {
     "cellMetadata": {
      "byteLimit": 2048000,
      "rowLimit": 10000
     },
     "inputWidgets": {},
     "nuid": "d7d26c9b-175b-44bc-8570-5a3388263f49",
     "showTitle": false,
     "title": ""
    }
   },
   "source": [
    "Hacemos join con el DF del 2021 y el de regiones para obtener el continente de cada entrada.\n",
    "Comprobamos que no se hayan omitido registros."
   ]
  },
  {
   "cell_type": "code",
   "execution_count": 0,
   "metadata": {
    "application/vnd.databricks.v1+cell": {
     "cellMetadata": {
      "byteLimit": 2048000,
      "rowLimit": 10000
     },
     "inputWidgets": {},
     "nuid": "9f3f43a5-7824-4a5f-829e-1afb6a966a1d",
     "showTitle": false,
     "title": ""
    }
   },
   "outputs": [
    {
     "output_type": "stream",
     "name": "stdout",
     "output_type": "stream",
     "text": [
      "+------------------+------------+------------+------------------------------+------------+------------+---------------------+--------------+-----------------------+----------------------------+----------+-------------------------+------------------------+--------------------------------+----------------------------+-------------------------------------+------------------------------------------+------------------------+---------------------------------------+-------------------+---------+\n|Regional indicator|Country name|Ladder score|Standard error of ladder score|upperwhisker|lowerwhisker|Logged GDP per capita|Social support|Healthy life expectancy|Freedom to make life choices|Generosity|Perceptions of corruption|Ladder score in Dystopia|Explained by: Log GDP per capita|Explained by: Social support|Explained by: Healthy life expectancy|Explained by: Freedom to make life choices|Explained by: Generosity|Explained by: Perceptions of corruption|Dystopia + residual|Continent|\n+------------------+------------+------------+------------------------------+------------+------------+---------------------+--------------+-----------------------+----------------------------+----------+-------------------------+------------------------+--------------------------------+----------------------------+-------------------------------------+------------------------------------------+------------------------+---------------------------------------+-------------------+---------+\n|    Western Europe|North Cyprus|       5.536|                         0.051|       5.636|       5.435|               10.576|          0.82|                 73.898|                       0.795|     0.012|                    0.626|                    2.43|                           1.377|                       0.806|                                0.801|                                     0.503|                   0.196|                                    0.2|              1.653|   Europe|\n|    Western Europe|      Greece|       5.723|                         0.046|       5.813|       5.632|               10.279|         0.823|                   72.6|                       0.582|    -0.288|                    0.823|                    2.43|                           1.273|                       0.811|                                 0.76|                                     0.243|                     0.0|                                  0.074|              2.561|   Europe|\n|    Western Europe|    Portugal|       5.929|                         0.055|       6.037|       5.821|               10.421|         0.879|                   72.6|                       0.892|    -0.244|                    0.887|                    2.43|                           1.323|                       0.939|                                 0.76|                                     0.621|                   0.029|                                  0.033|              2.225|   Europe|\n|    Western Europe|      Cyprus|       6.223|                         0.049|       6.319|       6.128|               10.576|         0.802|                 73.898|                       0.763|    -0.015|                    0.844|                    2.43|                           1.377|                       0.765|                                0.801|                                     0.464|                   0.178|                                  0.061|              2.578|   Europe|\n|    Western Europe|       Italy|       6.483|                         0.045|       6.572|       6.395|               10.623|          0.88|                   73.8|                       0.693|    -0.084|                    0.866|                    2.43|                           1.393|                        0.94|                                0.798|                                     0.379|                   0.133|                                  0.047|              2.794|   Europe|\n+------------------+------------+------------+------------------------------+------------+------------+---------------------+--------------+-----------------------+----------------------------+----------+-------------------------+------------------------+--------------------------------+----------------------------+-------------------------------------+------------------------------------------+------------------------+---------------------------------------+-------------------+---------+\n\n"
     ]
    }
   ],
   "source": [
    "dfJoin2021 = dfHappiness2021.join(dfContinents, [\"Regional Indicator\"])\n",
    "dfJoin2021.limit(5).show()"
   ]
  },
  {
   "cell_type": "code",
   "execution_count": 0,
   "metadata": {
    "application/vnd.databricks.v1+cell": {
     "cellMetadata": {
      "byteLimit": 2048000,
      "rowLimit": 10000
     },
     "inputWidgets": {},
     "nuid": "83a2b084-27b0-4cec-b30d-8770f9ad4a92",
     "showTitle": false,
     "title": ""
    }
   },
   "outputs": [
    {
     "output_type": "stream",
     "name": "stdout",
     "output_type": "stream",
     "text": [
      "Antes del join:  149\nDespués del join:  149\n"
     ]
    }
   ],
   "source": [
    "print(\"Antes del join: \", dfHappiness2021.count())\n",
    "print(\"Después del join: \", dfJoin2021.count())"
   ]
  },
  {
   "cell_type": "markdown",
   "metadata": {
    "application/vnd.databricks.v1+cell": {
     "cellMetadata": {
      "byteLimit": 2048000,
      "rowLimit": 10000
     },
     "inputWidgets": {},
     "nuid": "e5700651-2cdc-4d2c-bd0a-91a4d9ae9a8c",
     "showTitle": false,
     "title": ""
    }
   },
   "source": [
    "Usamos una ventana para agrupar por continente y obtener el país con mayor puntuación."
   ]
  },
  {
   "cell_type": "code",
   "execution_count": 0,
   "metadata": {
    "application/vnd.databricks.v1+cell": {
     "cellMetadata": {
      "byteLimit": 2048000,
      "rowLimit": 10000
     },
     "inputWidgets": {},
     "nuid": "16122ad4-0389-4e87-84b4-77079c7f34ab",
     "showTitle": false,
     "title": ""
    }
   },
   "outputs": [
    {
     "output_type": "stream",
     "name": "stdout",
     "output_type": "stream",
     "text": [
      "+---------+------------------------+------------+\n|Continent|Country name            |Ladder score|\n+---------+------------------------+------------+\n|Africa   |Israel                  |7.157       |\n|America  |New Zealand             |7.277       |\n|Asia     |Taiwan Province of China|6.584       |\n|Europe   |Finland                 |7.842       |\n+---------+------------------------+------------+\n\n"
     ]
    }
   ],
   "source": [
    "windowByContinent2021 = Window.partitionBy(\"Continent\").orderBy(desc(\"Ladder score\"))\n",
    "\n",
    "result2 = dfJoin2021.withColumn(\"Rank\", rank().over(windowByContinent2021))\\\n",
    "  .filter(col(\"Rank\") == 1)\\\n",
    "  .select(\n",
    "    \"Continent\",\n",
    "    \"Country name\",\n",
    "    \"Ladder score\"\n",
    "  )\n",
    "\n",
    "result2.cache\n",
    "result2.show(truncate=False)"
   ]
  },
  {
   "cell_type": "markdown",
   "metadata": {
    "application/vnd.databricks.v1+cell": {
     "cellMetadata": {
      "byteLimit": 2048000,
      "rowLimit": 10000
     },
     "inputWidgets": {},
     "nuid": "4d02bb56-31e7-42d2-9ffc-423552d00f83",
     "showTitle": false,
     "title": ""
    }
   },
   "source": [
    "Podemos ver que Finlandia es el país más feliz en Europa, Israel en África, Nueva Zelanda en América y Taiwan en Asia."
   ]
  },
  {
   "cell_type": "markdown",
   "metadata": {
    "application/vnd.databricks.v1+cell": {
     "cellMetadata": {
      "byteLimit": 2048000,
      "rowLimit": 10000
     },
     "inputWidgets": {},
     "nuid": "aeafe2d4-a050-4c92-ad18-5628b1f017dd",
     "showTitle": false,
     "title": ""
    }
   },
   "source": [
    "# Ejercicio 3\n",
    "**¿Cuál es el país que más veces ocupó el primer lugar en todos los años?**"
   ]
  },
  {
   "cell_type": "markdown",
   "metadata": {
    "application/vnd.databricks.v1+cell": {
     "cellMetadata": {
      "byteLimit": 2048000,
      "rowLimit": 10000
     },
     "inputWidgets": {},
     "nuid": "f3f2eb59-4c31-45f4-be31-6cd3877cf1f0",
     "showTitle": false,
     "title": ""
    }
   },
   "source": [
    "Comprobamos qué años están contenidos en el DF general."
   ]
  },
  {
   "cell_type": "code",
   "execution_count": 0,
   "metadata": {
    "application/vnd.databricks.v1+cell": {
     "cellMetadata": {
      "byteLimit": 2048000,
      "rowLimit": 10000
     },
     "inputWidgets": {},
     "nuid": "be0a0f71-d122-4b04-b722-357e82f6ad69",
     "showTitle": false,
     "title": ""
    }
   },
   "outputs": [
    {
     "output_type": "stream",
     "name": "stdout",
     "output_type": "stream",
     "text": [
      "+----+\n|year|\n+----+\n|2005|\n|2006|\n|2007|\n|2008|\n|2009|\n|2010|\n|2011|\n|2012|\n|2013|\n|2014|\n|2015|\n|2016|\n|2017|\n|2018|\n|2019|\n|2020|\n+----+\n\n"
     ]
    }
   ],
   "source": [
    "dfHappiness.select(\"year\").distinct().orderBy(\"year\").show()"
   ]
  },
  {
   "cell_type": "markdown",
   "metadata": {
    "application/vnd.databricks.v1+cell": {
     "cellMetadata": {
      "byteLimit": 2048000,
      "rowLimit": 10000
     },
     "inputWidgets": {},
     "nuid": "eadaf5eb-3c41-4646-9f42-f99b8f18bb51",
     "showTitle": false,
     "title": ""
    }
   },
   "source": [
    "Tenemos desde el 2005 hasta el 2020, para añadir el 2021 daremos el mismo formato al dataframe de ese año y los uniremos."
   ]
  },
  {
   "cell_type": "code",
   "execution_count": 0,
   "metadata": {
    "application/vnd.databricks.v1+cell": {
     "cellMetadata": {
      "byteLimit": 2048000,
      "rowLimit": 10000
     },
     "inputWidgets": {},
     "nuid": "5ef45bd3-6aa8-4781-9c44-aefdef20fccc",
     "showTitle": false,
     "title": ""
    }
   },
   "outputs": [
    {
     "output_type": "stream",
     "name": "stdout",
     "output_type": "stream",
     "text": [
      "+------------+----+-----------+\n|Country name|year|Life Ladder|\n+------------+----+-----------+\n| Afghanistan|2008|      3.724|\n| Afghanistan|2009|      4.402|\n| Afghanistan|2010|      4.758|\n| Afghanistan|2011|      3.832|\n| Afghanistan|2012|      3.783|\n+------------+----+-----------+\nonly showing top 5 rows\n\n"
     ]
    }
   ],
   "source": [
    "dfHappinessYears = dfHappiness.select(\"Country name\", \"year\", \"Life Ladder\")\n",
    "dfHappinessYears.show(5)"
   ]
  },
  {
   "cell_type": "code",
   "execution_count": 0,
   "metadata": {
    "application/vnd.databricks.v1+cell": {
     "cellMetadata": {
      "byteLimit": 2048000,
      "rowLimit": 10000
     },
     "inputWidgets": {},
     "nuid": "21976345-fe3e-4923-a454-19bfa9da0049",
     "showTitle": false,
     "title": ""
    }
   },
   "outputs": [
    {
     "output_type": "stream",
     "name": "stdout",
     "output_type": "stream",
     "text": [
      "+------------+----+-----------+\n|Country name|year|Life Ladder|\n+------------+----+-----------+\n|     Finland|2021|      7.842|\n|     Denmark|2021|       7.62|\n| Switzerland|2021|      7.571|\n|     Iceland|2021|      7.554|\n| Netherlands|2021|      7.464|\n+------------+----+-----------+\nonly showing top 5 rows\n\n"
     ]
    }
   ],
   "source": [
    "dfHappinessYear2021 = dfHappiness2021.select(col(\"Country name\"), lit(2021).alias(\"year\"), col(\"Ladder score\").alias(\"Life Ladder\"))\n",
    "dfHappinessYear2021.show(5)"
   ]
  },
  {
   "cell_type": "code",
   "execution_count": 0,
   "metadata": {
    "application/vnd.databricks.v1+cell": {
     "cellMetadata": {
      "byteLimit": 2048000,
      "rowLimit": 10000
     },
     "inputWidgets": {},
     "nuid": "57589af9-367f-4144-a830-10aefdec249a",
     "showTitle": false,
     "title": ""
    }
   },
   "outputs": [
    {
     "output_type": "stream",
     "name": "stdout",
     "output_type": "stream",
     "text": [
      "Suma de los registros: 2098\nRegistros de la unión: 2098\n"
     ]
    }
   ],
   "source": [
    "dfUnionHappiness = dfHappinessYears.union(dfHappinessYear2021)\n",
    "print(\"Suma de los registros: \" + str(dfHappinessYears.count() + dfHappinessYear2021.count()))\n",
    "print(\"Registros de la unión: \" + str(dfUnionHappiness.count()))"
   ]
  },
  {
   "cell_type": "markdown",
   "metadata": {
    "application/vnd.databricks.v1+cell": {
     "cellMetadata": {
      "byteLimit": 2048000,
      "rowLimit": 10000
     },
     "inputWidgets": {},
     "nuid": "f693c3ff-4276-4d9c-9d52-10ed72309d3b",
     "showTitle": false,
     "title": ""
    }
   },
   "source": [
    "Ahora disponemos de todos los datos en un mismo DF. Agrupamos por año y obtenemos el país con más puntuación en cada año. Luego contamos las veces que aparece cada país en el DF resultante."
   ]
  },
  {
   "cell_type": "code",
   "execution_count": 0,
   "metadata": {
    "application/vnd.databricks.v1+cell": {
     "cellMetadata": {
      "byteLimit": 2048000,
      "rowLimit": 10000
     },
     "inputWidgets": {},
     "nuid": "04f8a934-cc02-4474-895f-efe30e6ec62d",
     "showTitle": false,
     "title": ""
    }
   },
   "outputs": [
    {
     "output_type": "stream",
     "name": "stdout",
     "output_type": "stream",
     "text": [
      "+------------+-----------+\n|Country name|Times first|\n+------------+-----------+\n|     Finland|          7|\n|     Denmark|          7|\n+------------+-----------+\n\n"
     ]
    }
   ],
   "source": [
    "windowByYearHappiness = Window.partitionBy(\"year\").orderBy(desc(\"Life Ladder\"))\n",
    "\n",
    "result3 = dfUnionHappiness.withColumn(\"Rank\", rank().over(windowByYearHappiness))\\\n",
    "  .filter(col(\"Rank\") == 1)\\\n",
    "  .groupBy(\"Country name\").count().withColumnRenamed(\"count\", \"Times first\")\\\n",
    "  .orderBy(desc(\"Times first\"))\\\n",
    "  .limit(2)\n",
    "\n",
    "result3.cache\n",
    "result3.show()"
   ]
  },
  {
   "cell_type": "markdown",
   "metadata": {
    "application/vnd.databricks.v1+cell": {
     "cellMetadata": {
      "byteLimit": 2048000,
      "rowLimit": 10000
     },
     "inputWidgets": {},
     "nuid": "f7ace646-4937-436d-90aa-59108712bba4",
     "showTitle": false,
     "title": ""
    }
   },
   "source": [
    "Tanto Finlandia como Dinamarca empatan en primer lugar como los que más veces han sido considerados más felices, con 7 victorias cada uno."
   ]
  },
  {
   "cell_type": "markdown",
   "metadata": {
    "application/vnd.databricks.v1+cell": {
     "cellMetadata": {
      "byteLimit": 2048000,
      "rowLimit": 10000
     },
     "inputWidgets": {},
     "nuid": "01122fc8-eb8f-4b05-8cdd-ccd1055973c7",
     "showTitle": false,
     "title": ""
    }
   },
   "source": [
    "# Ejercicio 4\n",
    "**¿Qué puesto de Felicidad tiene el país con mayor GDP del 2020?**"
   ]
  },
  {
   "cell_type": "code",
   "execution_count": 0,
   "metadata": {
    "application/vnd.databricks.v1+cell": {
     "cellMetadata": {
      "byteLimit": 2048000,
      "rowLimit": 10000
     },
     "inputWidgets": {},
     "nuid": "98770f90-bb1a-429f-a770-bd89c5e9bfd8",
     "showTitle": false,
     "title": ""
    }
   },
   "outputs": [
    {
     "output_type": "stream",
     "name": "stdout",
     "output_type": "stream",
     "text": [
      "+------------+----+-----------+------------------+--------------+--------------------------------+----------------------------+----------+-------------------------+---------------+---------------+\n|Country name|year|Life Ladder|Log GDP per capita|Social support|Healthy life expectancy at birth|Freedom to make life choices|Generosity|Perceptions of corruption|Positive affect|Negative affect|\n+------------+----+-----------+------------------+--------------+--------------------------------+----------------------------+----------+-------------------------+---------------+---------------+\n| Afghanistan|2008|      3.724|              7.37|         0.451|                            50.8|                       0.718|     0.168|                    0.882|          0.518|          0.258|\n| Afghanistan|2009|      4.402|              7.54|         0.552|                            51.2|                       0.679|      0.19|                     0.85|          0.584|          0.237|\n| Afghanistan|2010|      4.758|             7.647|         0.539|                            51.6|                         0.6|     0.121|                    0.707|          0.618|          0.275|\n| Afghanistan|2011|      3.832|              7.62|         0.521|                           51.92|                       0.496|     0.162|                    0.731|          0.611|          0.267|\n| Afghanistan|2012|      3.783|             7.705|         0.521|                           52.24|                       0.531|     0.236|                    0.776|           0.71|          0.268|\n+------------+----+-----------+------------------+--------------+--------------------------------+----------------------------+----------+-------------------------+---------------+---------------+\n\n"
     ]
    }
   ],
   "source": [
    "dfHappiness.limit(5).show()"
   ]
  },
  {
   "cell_type": "markdown",
   "metadata": {
    "application/vnd.databricks.v1+cell": {
     "cellMetadata": {
      "byteLimit": 2048000,
      "rowLimit": 10000
     },
     "inputWidgets": {},
     "nuid": "94d2614c-784f-4da2-b630-deac82a8b3a0",
     "showTitle": false,
     "title": ""
    }
   },
   "source": [
    "Hacemos ranking para cada año según la felicidad y el GDP. Filtramos el de 2020 con mayor GDP y obtenemos el resultado."
   ]
  },
  {
   "cell_type": "code",
   "execution_count": 0,
   "metadata": {
    "application/vnd.databricks.v1+cell": {
     "cellMetadata": {
      "byteLimit": 2048000,
      "rowLimit": 10000
     },
     "inputWidgets": {},
     "nuid": "12f991c0-8ab6-42b1-adb9-c13230d8c46c",
     "showTitle": false,
     "title": ""
    }
   },
   "outputs": [
    {
     "output_type": "stream",
     "name": "stdout",
     "output_type": "stream",
     "text": [
      "+------------+----------------+------------------+\n|Country name|Life Ladder Rank|Log GDP per capita|\n+------------+----------------+------------------+\n|     Ireland|              13|            11.323|\n+------------+----------------+------------------+\n\n"
     ]
    }
   ],
   "source": [
    "windowByYearGDP = Window.partitionBy(\"year\").orderBy(desc(\"Log GDP per capita\"))\n",
    "\n",
    "result4 = dfHappiness.withColumn(\"GDP Rank\", rank().over(windowByYearGDP))\\\n",
    "  .withColumn(\"Life Ladder Rank\", rank().over(windowByYearHappiness))\\\n",
    "  .filter((col(\"year\") == 2020) & (col(\"GDP Rank\") == 1))\\\n",
    "  .select(\"Country name\", \"Life Ladder Rank\", \"Log GDP per capita\")\n",
    "\n",
    "result4.cache\n",
    "result4.show()"
   ]
  },
  {
   "cell_type": "markdown",
   "metadata": {
    "application/vnd.databricks.v1+cell": {
     "cellMetadata": {
      "byteLimit": 2048000,
      "rowLimit": 10000
     },
     "inputWidgets": {},
     "nuid": "6ba02e34-19ca-42f9-8b72-0af384ab16a9",
     "showTitle": false,
     "title": ""
    }
   },
   "source": [
    "El país con mayor GDP del 2020, que fue Irlanda, fue el número 13 en el ranking de los más felices."
   ]
  },
  {
   "cell_type": "markdown",
   "metadata": {
    "application/vnd.databricks.v1+cell": {
     "cellMetadata": {
      "byteLimit": 2048000,
      "rowLimit": 10000
     },
     "inputWidgets": {},
     "nuid": "d3fe5a03-a7d1-46ca-bea6-0cf80ef49d03",
     "showTitle": false,
     "title": ""
    }
   },
   "source": [
    "# Ejercicio 5\n",
    "**¿En qué porcentaje ha variado a nivel mundial el GDP promedio del 2020 respecto al 2021? ¿Aumentó o disminuyó?**"
   ]
  },
  {
   "cell_type": "code",
   "execution_count": 0,
   "metadata": {
    "application/vnd.databricks.v1+cell": {
     "cellMetadata": {
      "byteLimit": 2048000,
      "rowLimit": 10000
     },
     "inputWidgets": {},
     "nuid": "3a713fa0-2ddb-490a-90dd-d6d79e8f268a",
     "showTitle": false,
     "title": ""
    }
   },
   "outputs": [
    {
     "output_type": "stream",
     "name": "stdout",
     "output_type": "stream",
     "text": [
      "+--------------+--------------------+------------+------------------------------+------------+------------+---------------------+--------------+-----------------------+----------------------------+----------+-------------------------+------------------------+--------------------------------+----------------------------+-------------------------------------+------------------------------------------+------------------------+---------------------------------------+-------------------+\n|  Country name|  Regional indicator|Ladder score|Standard error of ladder score|upperwhisker|lowerwhisker|Logged GDP per capita|Social support|Healthy life expectancy|Freedom to make life choices|Generosity|Perceptions of corruption|Ladder score in Dystopia|Explained by: Log GDP per capita|Explained by: Social support|Explained by: Healthy life expectancy|Explained by: Freedom to make life choices|Explained by: Generosity|Explained by: Perceptions of corruption|Dystopia + residual|\n+--------------+--------------------+------------+------------------------------+------------+------------+---------------------+--------------+-----------------------+----------------------------+----------+-------------------------+------------------------+--------------------------------+----------------------------+-------------------------------------+------------------------------------------+------------------------+---------------------------------------+-------------------+\n|       Finland|      Western Europe|       7.842|                         0.032|       7.904|        7.78|               10.775|         0.954|                   72.0|                       0.949|    -0.098|                    0.186|                    2.43|                           1.446|                       1.106|                                0.741|                                     0.691|                   0.124|                                  0.481|              3.253|\n|       Denmark|      Western Europe|        7.62|                         0.035|       7.687|       7.552|               10.933|         0.954|                   72.7|                       0.946|      0.03|                    0.179|                    2.43|                           1.502|                       1.108|                                0.763|                                     0.686|                   0.208|                                  0.485|              2.868|\n|   Switzerland|      Western Europe|       7.571|                         0.036|       7.643|         7.5|               11.117|         0.942|                   74.4|                       0.919|     0.025|                    0.292|                    2.43|                           1.566|                       1.079|                                0.816|                                     0.653|                   0.204|                                  0.413|              2.839|\n|       Iceland|      Western Europe|       7.554|                         0.059|        7.67|       7.438|               10.878|         0.983|                   73.0|                       0.955|      0.16|                    0.673|                    2.43|                           1.482|                       1.172|                                0.772|                                     0.698|                   0.293|                                   0.17|              2.967|\n|   Netherlands|      Western Europe|       7.464|                         0.027|       7.518|        7.41|               10.932|         0.942|                   72.4|                       0.913|     0.175|                    0.338|                    2.43|                           1.501|                       1.079|                                0.753|                                     0.647|                   0.302|                                  0.384|              2.798|\n|        Norway|      Western Europe|       7.392|                         0.035|       7.462|       7.323|               11.053|         0.954|                   73.3|                        0.96|     0.093|                     0.27|                    2.43|                           1.543|                       1.108|                                0.782|                                     0.703|                   0.249|                                  0.427|               2.58|\n|        Sweden|      Western Europe|       7.363|                         0.036|       7.433|       7.293|               10.867|         0.934|                   72.7|                       0.945|     0.086|                    0.237|                    2.43|                           1.478|                       1.062|                                0.763|                                     0.685|                   0.244|                                  0.448|              2.683|\n|    Luxembourg|      Western Europe|       7.324|                         0.037|       7.396|       7.252|               11.647|         0.908|                   72.6|                       0.907|    -0.034|                    0.386|                    2.43|                           1.751|                       1.003|                                 0.76|                                     0.639|                   0.166|                                  0.353|              2.653|\n|   New Zealand|North America and...|       7.277|                          0.04|       7.355|       7.198|               10.643|         0.948|                   73.4|                       0.929|     0.134|                    0.242|                    2.43|                             1.4|                       1.094|                                0.785|                                     0.665|                   0.276|                                  0.445|              2.612|\n|       Austria|      Western Europe|       7.268|                         0.036|       7.337|       7.198|               10.906|         0.934|                   73.3|                       0.908|     0.042|                    0.481|                    2.43|                           1.492|                       1.062|                                0.782|                                      0.64|                   0.215|                                  0.292|              2.784|\n|     Australia|North America and...|       7.183|                         0.041|       7.265|       7.102|               10.796|          0.94|                   73.9|                       0.914|     0.159|                    0.442|                    2.43|                           1.453|                       1.076|                                0.801|                                     0.647|                   0.291|                                  0.317|              2.598|\n|        Israel|Middle East and N...|       7.157|                         0.034|       7.224|        7.09|               10.575|         0.939|                 73.503|                         0.8|     0.031|                    0.753|                    2.43|                           1.376|                       1.074|                                0.788|                                     0.509|                   0.208|                                  0.119|              3.083|\n|       Germany|      Western Europe|       7.155|                          0.04|       7.232|       7.077|               10.873|         0.903|                   72.5|                       0.875|     0.011|                     0.46|                    2.43|                            1.48|                       0.993|                                0.757|                                       0.6|                   0.195|                                  0.306|              2.824|\n|        Canada|North America and...|       7.103|                         0.042|       7.185|       7.021|               10.776|         0.926|                   73.8|                       0.915|     0.089|                    0.415|                    2.43|                           1.447|                       1.044|                                0.798|                                     0.648|                   0.246|                                  0.335|              2.585|\n|       Ireland|      Western Europe|       7.085|                          0.04|       7.164|       7.006|               11.342|         0.947|                   72.4|                       0.879|     0.077|                    0.363|                    2.43|                           1.644|                       1.092|                                0.753|                                     0.606|                   0.238|                                  0.367|              2.384|\n|    Costa Rica|Latin America and...|       7.069|                         0.056|       7.179|        6.96|                 9.88|         0.891|                   71.4|                       0.934|    -0.126|                    0.809|                    2.43|                           1.134|                       0.966|                                0.722|                                     0.673|                   0.105|                                  0.083|              3.387|\n|United Kingdom|      Western Europe|       7.064|                         0.038|       7.138|        6.99|               10.707|         0.934|                   72.5|                       0.859|     0.233|                    0.459|                    2.43|                           1.423|                       1.062|                                0.757|                                      0.58|                    0.34|                                  0.306|              2.596|\n|Czech Republic|Central and Easte...|       6.965|                         0.049|       7.062|       6.868|               10.556|         0.947|                 70.807|                       0.858|    -0.208|                    0.868|                    2.43|                            1.37|                        1.09|                                0.703|                                      0.58|                   0.052|                                  0.046|              3.124|\n| United States|North America and...|       6.951|                         0.049|       7.047|       6.856|               11.023|          0.92|                   68.2|                       0.837|     0.098|                    0.698|                    2.43|                           1.533|                        1.03|                                0.621|                                     0.554|                   0.252|                                  0.154|              2.807|\n|       Belgium|      Western Europe|       6.834|                         0.034|       6.901|       6.767|               10.823|         0.906|                 72.199|                       0.783|    -0.153|                    0.646|                    2.43|                           1.463|                       0.998|                                0.747|                                     0.489|                   0.088|                                  0.187|              2.862|\n+--------------+--------------------+------------+------------------------------+------------+------------+---------------------+--------------+-----------------------+----------------------------+----------+-------------------------+------------------------+--------------------------------+----------------------------+-------------------------------------+------------------------------------------+------------------------+---------------------------------------+-------------------+\nonly showing top 20 rows\n\n"
     ]
    }
   ],
   "source": [
    "dfHappiness2021.show()"
   ]
  },
  {
   "cell_type": "markdown",
   "metadata": {
    "application/vnd.databricks.v1+cell": {
     "cellMetadata": {
      "byteLimit": 2048000,
      "rowLimit": 10000
     },
     "inputWidgets": {},
     "nuid": "1b8d352c-26c9-4c55-96d7-a0e0278b1b86",
     "showTitle": false,
     "title": ""
    }
   },
   "source": [
    "Calculamos la media para ambos años, que están en DF distintos."
   ]
  },
  {
   "cell_type": "code",
   "execution_count": 0,
   "metadata": {
    "application/vnd.databricks.v1+cell": {
     "cellMetadata": {
      "byteLimit": 2048000,
      "rowLimit": 10000
     },
     "inputWidgets": {},
     "nuid": "0d275e6e-a135-425c-aafb-acb85cab6a53",
     "showTitle": false,
     "title": ""
    }
   },
   "outputs": [
    {
     "output_type": "stream",
     "name": "stdout",
     "output_type": "stream",
     "text": [
      "+-----------------+\n|     Avg GDP 2020|\n+-----------------+\n|9.751329545454546|\n+-----------------+\n\n"
     ]
    }
   ],
   "source": [
    "dfAvgGDP2020 = dfHappiness.filter(col(\"year\") == 2020).agg(\n",
    "  avg(col(\"Log GDP per capita\"))\n",
    ").withColumnRenamed(\"avg(Log GDP per capita)\", \"Avg GDP 2020\")\n",
    "dfAvgGDP2020.show()"
   ]
  },
  {
   "cell_type": "code",
   "execution_count": 0,
   "metadata": {
    "application/vnd.databricks.v1+cell": {
     "cellMetadata": {
      "byteLimit": 2048000,
      "rowLimit": 10000
     },
     "inputWidgets": {},
     "nuid": "2ed7db53-a7b1-41dd-ae7d-ad2ff52cb614",
     "showTitle": false,
     "title": ""
    }
   },
   "outputs": [
    {
     "output_type": "stream",
     "name": "stdout",
     "output_type": "stream",
     "text": [
      "+-----------------+\n|     Avg GDP 2021|\n+-----------------+\n|9.432208053691273|\n+-----------------+\n\n"
     ]
    }
   ],
   "source": [
    "dfAvgGDP2021 = dfHappiness2021.agg(\n",
    "  avg(col(\"Logged GDP per capita\"))\n",
    ").withColumnRenamed(\"avg(Logged GDP per capita)\", \"Avg GDP 2021\")\n",
    "dfAvgGDP2021.show()"
   ]
  },
  {
   "cell_type": "markdown",
   "metadata": {
    "application/vnd.databricks.v1+cell": {
     "cellMetadata": {
      "byteLimit": 2048000,
      "rowLimit": 10000
     },
     "inputWidgets": {},
     "nuid": "c7150651-ab88-4654-919e-0277630aca70",
     "showTitle": false,
     "title": ""
    }
   },
   "source": [
    "Juntamos los DF, calculamos el porcentaje de cambio y si ha aumentado o disminuido."
   ]
  },
  {
   "cell_type": "code",
   "execution_count": 0,
   "metadata": {
    "application/vnd.databricks.v1+cell": {
     "cellMetadata": {
      "byteLimit": 2048000,
      "rowLimit": 10000
     },
     "inputWidgets": {},
     "nuid": "56fd6cb6-2db1-407c-aef1-52e18a0d96a2",
     "showTitle": false,
     "title": ""
    }
   },
   "outputs": [
    {
     "output_type": "stream",
     "name": "stdout",
     "output_type": "stream",
     "text": [
      "+-----------------+-----------------+---------------------+--------------+\n|     Avg GDP 2020|     Avg GDP 2021|Difference percentage|Type of change|\n+-----------------+-----------------+---------------------+--------------+\n|9.751329545454546|9.432208053691273|    3.383316927984697|     Increased|\n+-----------------+-----------------+---------------------+--------------+\n\n"
     ]
    }
   ],
   "source": [
    "result5 = dfAvgGDP2020.join(dfAvgGDP2021)\\\n",
    "  .withColumn(\"Difference percentage\", ((col(\"Avg GDP 2020\") - col(\"Avg GDP 2021\")) / col(\"Avg GDP 2021\")) * 100)\\\n",
    "  .withColumn(\"Type of change\", when(col(\"Difference percentage\")> 0, \"Increased\").when(col(\"Difference percentage\") == 0, \"Unchanged\").otherwise(\"Decreased\"))\n",
    "\n",
    "result5.cache\n",
    "result5.show()"
   ]
  },
  {
   "cell_type": "markdown",
   "metadata": {
    "application/vnd.databricks.v1+cell": {
     "cellMetadata": {
      "byteLimit": 2048000,
      "rowLimit": 10000
     },
     "inputWidgets": {},
     "nuid": "dc4afec6-ab72-416e-8dca-bc92caa6f094",
     "showTitle": false,
     "title": ""
    }
   },
   "source": [
    "Con respecto al 2021, el GDP aumentó un 3.38% en el año 2020."
   ]
  },
  {
   "cell_type": "markdown",
   "metadata": {
    "application/vnd.databricks.v1+cell": {
     "cellMetadata": {
      "byteLimit": 2048000,
      "rowLimit": 10000
     },
     "inputWidgets": {},
     "nuid": "301cb6bf-16b7-4e65-b2dd-2cbe1c79dda5",
     "showTitle": false,
     "title": ""
    }
   },
   "source": [
    "# Ejercicio 6\n",
    "**¿Cuál es el país con mayor expectativa de vida (\"Healthy life expectancy at birth\")? ¿Y cuánto tenía en ese indicador en el 2019?**\n",
    "\n",
    "*Evaluar para el último año disponible y el promedio de los últimos 5 años.*"
   ]
  },
  {
   "cell_type": "markdown",
   "metadata": {
    "application/vnd.databricks.v1+cell": {
     "cellMetadata": {
      "byteLimit": 2048000,
      "rowLimit": 10000
     },
     "inputWidgets": {},
     "nuid": "a36aafa9-b3d6-4d7e-9e05-4f353d986e21",
     "showTitle": false,
     "title": ""
    }
   },
   "source": [
    "Primero creamos un DF unificado con el general y el de 2021."
   ]
  },
  {
   "cell_type": "code",
   "execution_count": 0,
   "metadata": {
    "application/vnd.databricks.v1+cell": {
     "cellMetadata": {
      "byteLimit": 2048000,
      "rowLimit": 10000
     },
     "inputWidgets": {},
     "nuid": "47c68934-06fb-4732-9fe3-b2fece4f6c60",
     "showTitle": false,
     "title": ""
    }
   },
   "outputs": [
    {
     "output_type": "stream",
     "name": "stdout",
     "output_type": "stream",
     "text": [
      "+----+------------+--------------------------------+\n|year|Country name|Healthy life expectancy at birth|\n+----+------------+--------------------------------+\n|2008| Afghanistan|                            50.8|\n|2009| Afghanistan|                            51.2|\n|2010| Afghanistan|                            51.6|\n|2011| Afghanistan|                           51.92|\n|2012| Afghanistan|                           52.24|\n+----+------------+--------------------------------+\nonly showing top 5 rows\n\n"
     ]
    }
   ],
   "source": [
    "dfExpectancy = dfHappiness.select(col(\"year\"), col(\"Country name\"), col(\"Healthy life expectancy at birth\"))\n",
    "dfExpectancy2021 = dfHappiness2021.select(lit(2021), col(\"Country name\"), col(\"Healthy life expectancy\").alias(\"Healthy life expectancy at birth\"))\n",
    "dfUnionExpectancy = dfExpectancy.union(dfExpectancy2021)\n",
    "dfUnionExpectancy.show(5)"
   ]
  },
  {
   "cell_type": "markdown",
   "metadata": {
    "application/vnd.databricks.v1+cell": {
     "cellMetadata": {
      "byteLimit": 2048000,
      "rowLimit": 10000
     },
     "inputWidgets": {},
     "nuid": "9b6a5e9c-11b0-42e1-8705-eb084a68b597",
     "showTitle": false,
     "title": ""
    }
   },
   "source": [
    "## En el último año"
   ]
  },
  {
   "cell_type": "markdown",
   "metadata": {
    "application/vnd.databricks.v1+cell": {
     "cellMetadata": {
      "byteLimit": 2048000,
      "rowLimit": 10000
     },
     "inputWidgets": {},
     "nuid": "caf1b954-ce12-4fa6-8408-08cb0861c62d",
     "showTitle": false,
     "title": ""
    }
   },
   "source": [
    "Obtenemos el último año."
   ]
  },
  {
   "cell_type": "code",
   "execution_count": 0,
   "metadata": {
    "application/vnd.databricks.v1+cell": {
     "cellMetadata": {
      "byteLimit": 2048000,
      "rowLimit": 10000
     },
     "inputWidgets": {},
     "nuid": "941697c5-3369-4efa-aa3c-081157811c53",
     "showTitle": false,
     "title": ""
    }
   },
   "outputs": [
    {
     "output_type": "stream",
     "name": "stdout",
     "output_type": "stream",
     "text": [
      "2021\n"
     ]
    }
   ],
   "source": [
    "lastYear = dfUnionExpectancy.agg(max(col(\"year\")))\\\n",
    "  .limit(1)\\\n",
    "  .take(1)[0][0]\n",
    "print(lastYear)"
   ]
  },
  {
   "cell_type": "markdown",
   "metadata": {
    "application/vnd.databricks.v1+cell": {
     "cellMetadata": {
      "byteLimit": 2048000,
      "rowLimit": 10000
     },
     "inputWidgets": {},
     "nuid": "3f5dd0ff-eb4c-42ab-a8b4-599a70383792",
     "showTitle": false,
     "title": ""
    }
   },
   "source": [
    "Creamos una ventana que agrupe por año y ordene por la esperanza de vida, obtenemos el mayor en el último año."
   ]
  },
  {
   "cell_type": "code",
   "execution_count": 0,
   "metadata": {
    "application/vnd.databricks.v1+cell": {
     "cellMetadata": {
      "byteLimit": 2048000,
      "rowLimit": 10000
     },
     "inputWidgets": {},
     "nuid": "a92de946-9ee0-49ac-91dd-7a836c665860",
     "showTitle": false,
     "title": ""
    }
   },
   "outputs": [
    {
     "output_type": "stream",
     "name": "stdout",
     "output_type": "stream",
     "text": [
      "+----+------------+--------------------------------+\n|year|Country name|Healthy life expectancy at birth|\n+----+------------+--------------------------------+\n|2021|   Singapore|                          76.953|\n+----+------------+--------------------------------+\n\n"
     ]
    }
   ],
   "source": [
    "windowByYearExpectancy = Window.partitionBy(\"year\").orderBy(desc(\"Healthy life expectancy at birth\"))\n",
    "\n",
    "dfRankedByYearExpectancy = dfUnionExpectancy.withColumn(\"Rank\", rank().over(windowByYearExpectancy))\n",
    "\n",
    "result6a = dfUnionExpectancy.withColumn(\"Rank\", rank().over(windowByYearExpectancy))\\\n",
    "  .filter((col(\"Rank\") == 1) & (col(\"year\")== lastYear))\\\n",
    "  .drop(\"Rank\")\n",
    "\n",
    "result6a.cache\n",
    "result6a.show()"
   ]
  },
  {
   "cell_type": "markdown",
   "metadata": {
    "application/vnd.databricks.v1+cell": {
     "cellMetadata": {
      "byteLimit": 2048000,
      "rowLimit": 10000
     },
     "inputWidgets": {},
     "nuid": "24a472e2-553f-4141-aa4a-225d96bf1725",
     "showTitle": false,
     "title": ""
    }
   },
   "source": [
    "Singapur tenía mayor esperanza de vida en el 2021, el último año del que disponemos datos."
   ]
  },
  {
   "cell_type": "markdown",
   "metadata": {
    "application/vnd.databricks.v1+cell": {
     "cellMetadata": {
      "byteLimit": 2048000,
      "rowLimit": 10000
     },
     "inputWidgets": {},
     "nuid": "1694ef62-9065-4dce-8117-16b9ef811880",
     "showTitle": false,
     "title": ""
    }
   },
   "source": [
    "## En los últimos 5 años"
   ]
  },
  {
   "cell_type": "markdown",
   "metadata": {
    "application/vnd.databricks.v1+cell": {
     "cellMetadata": {
      "byteLimit": 2048000,
      "rowLimit": 10000
     },
     "inputWidgets": {},
     "nuid": "9433bef2-ba46-4b70-9483-f4b521892523",
     "showTitle": false,
     "title": ""
    }
   },
   "source": [
    "Filtramos los últimos 5 años, agrupamos por país y obtenemos el de mayor valor."
   ]
  },
  {
   "cell_type": "code",
   "execution_count": 0,
   "metadata": {
    "application/vnd.databricks.v1+cell": {
     "cellMetadata": {
      "byteLimit": 2048000,
      "rowLimit": 10000
     },
     "inputWidgets": {},
     "nuid": "750df2db-c864-4a1f-9547-5b052bfb903a",
     "showTitle": false,
     "title": ""
    }
   },
   "outputs": [
    {
     "output_type": "stream",
     "name": "stdout",
     "output_type": "stream",
     "text": [
      "+------------+-----------------------+\n|Country name|Average life expectancy|\n+------------+-----------------------+\n|   Singapore|               76.83825|\n+------------+-----------------------+\n\n"
     ]
    }
   ],
   "source": [
    "result6b = dfUnionExpectancy.filter(col(\"year\").between(lastYear - 4, lastYear))\\\n",
    "  .groupBy(\"Country name\").avg(\"Healthy life expectancy at birth\")\\\n",
    "  .withColumnRenamed(\"avg(Healthy life expectancy at birth)\", \"Average life expectancy\")\\\n",
    "  .orderBy(desc(\"Average life expectancy\"))\\\n",
    "  .limit(1)\n",
    "\n",
    "result6b.cache\n",
    "result6b.show()"
   ]
  },
  {
   "cell_type": "markdown",
   "metadata": {
    "application/vnd.databricks.v1+cell": {
     "cellMetadata": {
      "byteLimit": 2048000,
      "rowLimit": 10000
     },
     "inputWidgets": {},
     "nuid": "d3928460-3a1b-41ce-8730-3d03d3dbdd5f",
     "showTitle": false,
     "title": ""
    }
   },
   "source": [
    "Singapur también tuvo mayor esperanza de vida media en los últimos 5 años de los que disponemos datos."
   ]
  },
  {
   "cell_type": "markdown",
   "metadata": {
    "application/vnd.databricks.v1+cell": {
     "cellMetadata": {
      "byteLimit": 2048000,
      "rowLimit": 10000
     },
     "inputWidgets": {},
     "nuid": "936887df-207c-4c7c-a816-587f743461b1",
     "showTitle": false,
     "title": ""
    }
   },
   "source": [
    "## En 2019"
   ]
  },
  {
   "cell_type": "markdown",
   "metadata": {
    "application/vnd.databricks.v1+cell": {
     "cellMetadata": {
      "byteLimit": 2048000,
      "rowLimit": 10000
     },
     "inputWidgets": {},
     "nuid": "16590c19-9aba-421f-b9ae-4d335938c695",
     "showTitle": false,
     "title": ""
    }
   },
   "source": [
    "Por un lado obtenemos un DF con el país del último año con mayor puntuación.\n",
    "Por otro lado obtenemos las entradas del 2019. Hacemos join de ambos por el país y nos queda la entrada del que nos interesa."
   ]
  },
  {
   "cell_type": "code",
   "execution_count": 0,
   "metadata": {
    "application/vnd.databricks.v1+cell": {
     "cellMetadata": {
      "byteLimit": 2048000,
      "rowLimit": 10000
     },
     "inputWidgets": {},
     "nuid": "9d0e6f88-8f20-4590-93c0-bfbb788c85ea",
     "showTitle": false,
     "title": ""
    }
   },
   "outputs": [
    {
     "output_type": "stream",
     "name": "stdout",
     "output_type": "stream",
     "text": [
      "+------------+--------------------------------+\n|Country name|Healthy life expectancy at birth|\n+------------+--------------------------------+\n|   Singapore|                            77.1|\n+------------+--------------------------------+\n\n"
     ]
    }
   ],
   "source": [
    "result6c = result6a.select(\"Country name\")\\\n",
    "  .join(dfRankedByYearExpectancy.filter(col(\"year\") == 2019), [\"Country name\"])\\\n",
    "  .drop(\"Rank\").drop(\"year\")\n",
    "\n",
    "result6c.cache\n",
    "dfRankedByYearExpectancy.unpersist\n",
    "result6c.show()"
   ]
  },
  {
   "cell_type": "markdown",
   "metadata": {
    "application/vnd.databricks.v1+cell": {
     "cellMetadata": {
      "byteLimit": 2048000,
      "rowLimit": 10000
     },
     "inputWidgets": {},
     "nuid": "a65b99e2-54b2-48aa-a88b-a495afdfe125",
     "showTitle": false,
     "title": ""
    }
   },
   "source": [
    "La media de esperanza de vida de Singapur en el 2019 es de 77.1 años."
   ]
  }
 ],
 "metadata": {
  "application/vnd.databricks.v1+notebook": {
   "dashboards": [],
   "language": "python",
   "notebookMetadata": {
    "pythonIndentUnit": 4
   },
   "notebookName": "ProyectoFinalPython",
   "widgets": {}
  }
 },
 "nbformat": 4,
 "nbformat_minor": 0
}
